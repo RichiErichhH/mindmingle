{
 "cells": [
  {
   "cell_type": "code",
   "execution_count": 3,
   "id": "a9191ea8",
   "metadata": {},
   "outputs": [],
   "source": [
    "import random\n",
    "import os\n",
    "import game_config as gc\n",
    "\n",
    "from pygame import *\n",
    "\n",
    "animals_count = dict((a, 0) for a in gc.ASSET_FILES)\n",
    "\n",
    "def available_animals():\n",
    "    return [animal for animal, count in animals_count.items() if count < 2]\n",
    "\n",
    "class Animal:\n",
    "    def __init__(self, index):\n",
    "        self.index = index\n",
    "        self.name = random.choice(available_animals())\n",
    "        self.image_path = os.path.join(gc.ASSET_DIR, self.name)\n",
    "        self.row = index // gc.NUM_TILES_SIDE\n",
    "        self.col = index % gc.NUM_TILES_SIDE\n",
    "        self.skip = False\n",
    "        self.image = image.load(self.image_path)\n",
    "        self.image = transform.scale(self.image, (gc.IMAGE_SIZE - 2 * gc.MARGIN, gc.IMAGE_SIZE - 2 * gc.MARGIN))\n",
    "        self.box = self.image.copy()\n",
    "        self.box.fill((200, 200, 200))\n",
    "\n",
    "        animals_count[self.name] += 1"
   ]
  },
  {
   "cell_type": "code",
   "execution_count": null,
   "id": "47a3febe",
   "metadata": {},
   "outputs": [],
   "source": []
  },
  {
   "cell_type": "code",
   "execution_count": null,
   "id": "7ee59a5a",
   "metadata": {},
   "outputs": [],
   "source": []
  }
 ],
 "metadata": {
  "kernelspec": {
   "display_name": "Python 3 (ipykernel)",
   "language": "python",
   "name": "python3"
  },
  "language_info": {
   "codemirror_mode": {
    "name": "ipython",
    "version": 3
   },
   "file_extension": ".py",
   "mimetype": "text/x-python",
   "name": "python",
   "nbconvert_exporter": "python",
   "pygments_lexer": "ipython3",
   "version": "3.9.13"
  }
 },
 "nbformat": 4,
 "nbformat_minor": 5
}
